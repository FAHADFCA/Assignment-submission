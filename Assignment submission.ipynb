{
  "metadata": {
    "kernelspec": {
      "name": "python",
      "display_name": "Python (Pyodide)",
      "language": "python"
    },
    "language_info": {
      "codemirror_mode": {
        "name": "python",
        "version": 3
      },
      "file_extension": ".py",
      "mimetype": "text/x-python",
      "name": "python",
      "nbconvert_exporter": "python",
      "pygments_lexer": "ipython3",
      "version": "3.8"
    }
  },
  "nbformat_minor": 4,
  "nbformat": 4,
  "cells": [
    {
      "cell_type": "markdown",
      "source": "Assignment Submission",
      "metadata": {}
    },
    {
      "cell_type": "markdown",
      "source": "This notebook has been prepared as part of the assighnment for module completion",
      "metadata": {}
    },
    {
      "cell_type": "markdown",
      "source": "1. Python\n2. R\n3. SQL\n4. Java\n5. Julia\n6. C/C++",
      "metadata": {}
    },
    {
      "cell_type": "markdown",
      "source": "1. Numpy\n2. SciPy\n3. Pandas\n4. Matplotlib\n5. Tensorflow\n6. Keras",
      "metadata": {
        "scrolled": true
      }
    },
    {
      "cell_type": "markdown",
      "source": "| Sr. No. | Data Science Tools |\n| -------------| ------ |\n| 1 | TensorFlow |\n| 2 | Project Jupyter |\n| 3 | Python |",
      "metadata": {}
    },
    {
      "cell_type": "markdown",
      "source": "Below few examples of evaluating arithmatic expressions examples:\n\nCode = 2+3\n\nCode = 2*4",
      "metadata": {}
    },
    {
      "cell_type": "code",
      "source": "(2*8)+4",
      "metadata": {
        "trusted": true
      },
      "outputs": [
        {
          "execution_count": 5,
          "output_type": "execute_result",
          "data": {
            "text/plain": "20"
          },
          "metadata": {}
        }
      ],
      "execution_count": 5
    },
    {
      "cell_type": "code",
      "source": "days = 0\nhours = 0\nmins = 0\n\ntime = 300\ndays = time / 1440     \nleftover_minutes = time % 1440\nhours = leftover_minutes / 60\nmins = time - (days*1440) - (hours*60)\nprint(str(days) + \" days, \" + str(hours) + \" hours, \" + str(mins) +  \" mins. \")",
      "metadata": {
        "trusted": true
      },
      "outputs": [
        {
          "name": "stdout",
          "text": "0.20833333333333334 days, 5.0 hours, -300.0 mins. \n",
          "output_type": "stream"
        }
      ],
      "execution_count": 7
    },
    {
      "cell_type": "markdown",
      "source": "Objectives of the Course\n1. To know about Data Science\n2. to learn about Data Science Languages \n3. To learn how to use data scince tools ",
      "metadata": {}
    },
    {
      "cell_type": "markdown",
      "source": "Author: Fahad Akbar Khan",
      "metadata": {}
    },
    {
      "cell_type": "code",
      "source": "",
      "metadata": {
        "trusted": true
      },
      "outputs": [],
      "execution_count": null
    }
  ]
}